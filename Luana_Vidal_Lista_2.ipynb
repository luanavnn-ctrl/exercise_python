{
 "cells": [
  {
   "cell_type": "markdown",
   "metadata": {},
   "source": [
    "1. Faça um Programa que peça um número e então mostre a mensagem: O número informado foi [número]. "
   ]
  },
  {
   "cell_type": "code",
   "execution_count": 3,
   "metadata": {},
   "outputs": [
    {
     "name": "stdout",
     "output_type": "stream",
     "text": [
      "Digite um número: 2\n",
      "O número informado foi: 2\n"
     ]
    }
   ],
   "source": [
    "numero = input('Digite um número: ')\n",
    "print('O número informado foi: {}' .format(numero))"
   ]
  },
  {
   "cell_type": "markdown",
   "metadata": {},
   "source": [
    "2. Faça um Programa que peça dois números e imprima a soma. "
   ]
  },
  {
   "cell_type": "code",
   "execution_count": 5,
   "metadata": {},
   "outputs": [
    {
     "name": "stdout",
     "output_type": "stream",
     "text": [
      "Digite o primeiro número: 8\n",
      "Digite o segundo número: 8\n",
      "A som dos dois número é: 16\n"
     ]
    }
   ],
   "source": [
    "n1 = int(input('Digite o primeiro número: '))\n",
    "n2 = int(input('Digite o segundo número: '))\n",
    "soma = n1 + n2\n",
    "print('A som dos dois número é: {}' .format(soma))"
   ]
  },
  {
   "cell_type": "markdown",
   "metadata": {},
   "source": [
    "3. Faça um Programa que peça as 4 notas bimestrais e mostre a média. "
   ]
  },
  {
   "cell_type": "code",
   "execution_count": 11,
   "metadata": {},
   "outputs": [
    {
     "name": "stdout",
     "output_type": "stream",
     "text": [
      "Primeira nota: 5.2\n",
      "Segunda nota: 6.7\n",
      "Terceira nota: 3.1\n",
      "Quarta nota: 8\n",
      "A média do aluno foi: 5.75\n",
      "Aluno reprovado\n"
     ]
    }
   ],
   "source": [
    "nota1 = float(input('Primeira nota: '))\n",
    "nota2 = float(input('Segunda nota: '))\n",
    "nota3 = float(input('Terceira nota: '))\n",
    "nota4 = float(input('Quarta nota: '))\n",
    "media = (nota1 + nota2 + nota3 + nota4) / 4\n",
    "\n",
    "print('A média do aluno foi: {}' .format(media))\n",
    "\n",
    "if media > 7:\n",
    "    print('APROVADO')\n",
    "elif media < 7:\n",
    "    print ('REPROVADO')"
   ]
  },
  {
   "cell_type": "markdown",
   "metadata": {},
   "source": [
    "4. Faça um Programa que converta metros para centímetros. "
   ]
  },
  {
   "cell_type": "code",
   "execution_count": 16,
   "metadata": {},
   "outputs": [
    {
     "name": "stdout",
     "output_type": "stream",
     "text": [
      "Metro: 1.754\n",
      "O valor em centímetros é igual a 175.4cm\n"
     ]
    }
   ],
   "source": [
    "cm = 100\n",
    "mt = float(input('Metro: '))\n",
    "valor = mt * cm\n",
    "print('O valor em centímetros é igual a {}cm' .format(valor))"
   ]
  },
  {
   "cell_type": "markdown",
   "metadata": {},
   "source": [
    "5. Faça um Programa que peça o raio de um círculo, calcule e mostre sua área. "
   ]
  },
  {
   "cell_type": "code",
   "execution_count": 22,
   "metadata": {},
   "outputs": [
    {
     "name": "stdout",
     "output_type": "stream",
     "text": [
      "Valor do raio: 4\n",
      "A área do círculo é 50.24\n"
     ]
    }
   ],
   "source": [
    "raio = float(input('Valor do raio: '))\n",
    "pi = 3.14\n",
    "area = pi * (raio * raio)\n",
    "\n",
    "print('A área do círculo é {}' .format(area))"
   ]
  },
  {
   "cell_type": "markdown",
   "metadata": {},
   "source": [
    "6. Faça um Programa que calcule a área de um quadrado, em seguida mostre o dobro desta área para o usuário. "
   ]
  },
  {
   "cell_type": "code",
   "execution_count": 23,
   "metadata": {},
   "outputs": [
    {
     "name": "stdout",
     "output_type": "stream",
     "text": [
      "Valor da base: 5\n",
      "Valor da altura: 2\n",
      "A área do quadrado é 10.0\n"
     ]
    }
   ],
   "source": [
    "base = float(input('Valor da base: '))\n",
    "altura = float(input('Valor da altura: '))\n",
    "area = base * altura\n",
    "print('A área do quadrado é {}' .format(area))"
   ]
  },
  {
   "cell_type": "markdown",
   "metadata": {},
   "source": [
    "7. Faça um Programa que pergunte quanto você ganha por hora e o número de horas trabalhadas no mês. Calcule e mostre o total do seu salário no referido mês."
   ]
  },
  {
   "cell_type": "code",
   "execution_count": 25,
   "metadata": {},
   "outputs": [
    {
     "name": "stdout",
     "output_type": "stream",
     "text": [
      "Valor da hora trabalhada: 10.15\n",
      "Quantas horas/mês: 176\n",
      "O salário é de 1786.4\n"
     ]
    }
   ],
   "source": [
    "valorHora = float(input('Valor da hora trabalhada: '))\n",
    "qteHora = float(input('Quantas horas/mês: '))\n",
    "salario = valorHora * qteHora\n",
    "print('O salário é de {}'.format(salario))"
   ]
  },
  {
   "cell_type": "markdown",
   "metadata": {},
   "source": [
    "8. Faça um Programa que peça a temperatura em graus Farenheit, transforme e mostre a temperatura em graus Celsius. C = (5 * (F-32) / 9). "
   ]
  },
  {
   "cell_type": "code",
   "execution_count": 28,
   "metadata": {},
   "outputs": [
    {
     "name": "stdout",
     "output_type": "stream",
     "text": [
      "Temperatura em graus Farenheit: 87\n",
      "A temperatura em Celsius é 30.555555555555557\n"
     ]
    }
   ],
   "source": [
    "F = int(input('Temperatura em graus Farenheit: '))\n",
    "C = 5 * (F - 32) / 9\n",
    "print('A temperatura em Celsius é {}' .format(C))"
   ]
  },
  {
   "cell_type": "markdown",
   "metadata": {},
   "source": [
    "9. Faça um Programa que peça a temperatura em graus Celsius, transforme e mostre em graus Farenheit. "
   ]
  },
  {
   "cell_type": "code",
   "execution_count": 29,
   "metadata": {},
   "outputs": [
    {
     "name": "stdout",
     "output_type": "stream",
     "text": [
      "Temperatura em graus Celsius: 27\n",
      "A temperatura em graus Farenheit é 80.6\n"
     ]
    }
   ],
   "source": [
    "C = int(input('Temperatura em graus Celsius: '))\n",
    "F = (C * 9/5) + 32\n",
    "print('A temperatura em graus Farenheit é {}' .format(F))"
   ]
  },
  {
   "cell_type": "markdown",
   "metadata": {},
   "source": [
    "10. Elaborar um algoritmo que efetue a apresentação do valor da conversão em real (R$) de um valor lido em dólar (US$). O algoritmo deverá solicitar o valor da cotação do dólar e também a quantidade de dólares disponíveis com o usuário."
   ]
  },
  {
   "cell_type": "code",
   "execution_count": 32,
   "metadata": {},
   "outputs": [
    {
     "name": "stdout",
     "output_type": "stream",
     "text": [
      "Cotação do Dólar: 5.62\n",
      "Quantidade de dólares disponíveis: 524\n",
      "O valor em reais é R$2944.88\n"
     ]
    }
   ],
   "source": [
    "cotacaoDolar = float(input('Cotação do Dólar: '))\n",
    "qteDolar = float(input('Quantidade de dólares disponíveis: '))\n",
    "qteReais = cotacaoDolar * qteDolar\n",
    "\n",
    "print('O valor em reais é R${}' .format(qteReais))"
   ]
  },
  {
   "cell_type": "markdown",
   "metadata": {},
   "source": [
    "11. Faça um algoritmo que receba um valor que foi depositado e exiba o valor com rendimento após um mês. Considere fixo o juro da poupança em 0,70% a. m."
   ]
  },
  {
   "cell_type": "code",
   "execution_count": 35,
   "metadata": {},
   "outputs": [
    {
     "name": "stdout",
     "output_type": "stream",
     "text": [
      "Valor do depósito: 257\n",
      "O rendimento ao mês é de R$ 1.799 ao mês\n",
      "Valor total rendido é R$ 258.799\n"
     ]
    }
   ],
   "source": [
    "deposito = float(input('Valor do depósito: '))\n",
    "juros = 0.007 \n",
    "rendimento = deposito * juros\n",
    "total = rendimento + deposito\n",
    "\n",
    "print('O rendimento ao mês é de R$ {} ao mês' .format(rendimento))\n",
    "print('Valor total rendido no mês é R$ {}' .format(total))"
   ]
  },
  {
   "cell_type": "markdown",
   "metadata": {},
   "source": [
    "12. A Loja Mamão com Açúcar está vendendo seus produtos em 5 (cinco) prestações sem juros. Faça um algoritmo que receba um valor de uma compra e mostre o valor das prestações."
   ]
  },
  {
   "cell_type": "code",
   "execution_count": 38,
   "metadata": {},
   "outputs": [
    {
     "name": "stdout",
     "output_type": "stream",
     "text": [
      "Digite o valor da compra: 20\n",
      "O valor das prestações são de 5x de 4.0\n"
     ]
    }
   ],
   "source": [
    "valor = float(input('Digite o valor da compra: '))\n",
    "prestacao = valor / 5\n",
    "\n",
    "print('O valor das prestações são de 5x de {}' .format(prestacao))"
   ]
  },
  {
   "cell_type": "markdown",
   "metadata": {},
   "source": [
    "13. Faça um algoritmo que receba o preço de custo de um produto e mostre o valor de venda. Sabe-se que o preço de custo receberá um acréscimo de acordo com um percentual informado pelo usuário."
   ]
  },
  {
   "cell_type": "code",
   "execution_count": 41,
   "metadata": {},
   "outputs": [
    {
     "name": "stdout",
     "output_type": "stream",
     "text": [
      "Custo do produto: 22\n",
      "Percentual de lucro: 0.1\n",
      "O valor de venda do produto é 24.2\n"
     ]
    }
   ],
   "source": [
    "custo = float(input('Custo do produto: '))\n",
    "lucro = float(input('Percentual de lucro: '))\n",
    "venda = (custo * lucro) + custo \n",
    "\n",
    "print('O valor de venda do produto é {}' .format(venda))\n"
   ]
  },
  {
   "cell_type": "markdown",
   "metadata": {},
   "source": [
    "14. Escrever um algoritmo para determinar o consumo médio de um automóvel sendo fornecida a distância total percorrida pelo automóvel e o total de combustível gasto."
   ]
  },
  {
   "cell_type": "code",
   "execution_count": 44,
   "metadata": {},
   "outputs": [
    {
     "name": "stdout",
     "output_type": "stream",
     "text": [
      "Qual foi a distância percorrida? 120\n",
      "Quantos litros de combustível foi gasto? 20\n",
      "O consumo de combustível foi de 6.0 km/l\n"
     ]
    }
   ],
   "source": [
    "distancia = float(input('Qual foi a distância percorrida? '))\n",
    "combustivel = float(input('Quantos litros de combustível foi gasto? '))\n",
    "consumo = distancia / combustivel\n",
    "\n",
    "print('O consumo de combustível foi de {} km/l' .format(consumo))"
   ]
  },
  {
   "cell_type": "markdown",
   "metadata": {},
   "source": [
    "15. Escreva um programa que leia três números inteiros e positivos (A, B, C) e calcule a seguinte expressão: \n",
    "D = R + S / 2\n",
    "R = (A + B)^2\n",
    "S = (B + C)^2"
   ]
  },
  {
   "cell_type": "code",
   "execution_count": 47,
   "metadata": {},
   "outputs": [
    {
     "name": "stdout",
     "output_type": "stream",
     "text": [
      "Valor de A: 5\n",
      "Valor de B: 2\n",
      "Valor de C: 3\n",
      "Valor de R é de 5\n",
      "Valor de S é de 7\n",
      "Valor de D é de 8.5\n"
     ]
    }
   ],
   "source": [
    "A = int(input('Valor de A: '))\n",
    "B = int(input('Valor de B: '))\n",
    "C = int(input('Valor de C: '))\n",
    "\n",
    "R = (A + B)^2\n",
    "S = (B + C)^2\n",
    "D = R + S / 2\n",
    "\n",
    "print('Valor de R é de {}' .format(R))\n",
    "print('Valor de S é de {}' .format(S))\n",
    "print('Valor de D é de {}' .format(D))\n",
    "\n"
   ]
  },
  {
   "cell_type": "markdown",
   "metadata": {},
   "source": [
    "16. Escrever um algoritmo que leia o nome de um vendedor, o seu salário fixo e o total de vendas efetuadas por ele no mês (em dinheiro). Sabendo que este vendedor ganha 15% de comissão sobre suas vendas efetuadas, informar o seu nome, o salário fixo e salário no final do mês."
   ]
  },
  {
   "cell_type": "code",
   "execution_count": 48,
   "metadata": {},
   "outputs": [
    {
     "name": "stdout",
     "output_type": "stream",
     "text": [
      "Vendedor: Luana\n",
      "Salário fixo: 2300\n",
      "Total de vendas: 22\n",
      "Vendedor: Luana\n",
      "Salário fixo: 2300.0\n",
      "Salário final: 2645.0\n"
     ]
    }
   ],
   "source": [
    "nome = input('Vendedor: ')\n",
    "salarioFixo = float(input('Salário fixo: '))\n",
    "totalVendas = int(input('Total de vendas: '))\n",
    "comissao = 0.15\n",
    "salarioFinal = (comissao * salarioFixo) + salarioFixo\n",
    "\n",
    "print('Vendedor: {}' .format(nome))\n",
    "print('Salário fixo: {} reais' .format(salarioFixo))\n",
    "print('Salário final: {} reais' .format(salarioFinal))"
   ]
  },
  {
   "cell_type": "markdown",
   "metadata": {},
   "source": [
    "17. Faça um Programa que peça 2 números inteiros e um número real. Calcule e mostre: \n",
    ". o produto do dobro do primeiro com metade do segundo . \n",
    ". a soma do triplo do primeiro com o terceiro. \n",
    ". o terceiro elevado ao cubo. \n"
   ]
  },
  {
   "cell_type": "code",
   "execution_count": 57,
   "metadata": {},
   "outputs": [
    {
     "name": "stdout",
     "output_type": "stream",
     "text": [
      "Digite um número inteiro: 2\n",
      "Digite um número inteiro: 5\n",
      "Digite um número decimal: 1.5\n",
      "5.0\n",
      "7.5\n",
      "3.375\n"
     ]
    }
   ],
   "source": [
    "numero1 = int(input('Digite um número inteiro: '))\n",
    "numero2 = int(input('Digite um número inteiro: '))\n",
    "numero3 = float(input('Digite um número decimal: '))\n",
    "\n",
    "produto = numero1 * numero2 / 2\n",
    "soma = (numero1 * 3) + numero3\n",
    "potencia = numero3 ** 3\n",
    "\n",
    "print(produto)\n",
    "print(soma)\n",
    "print(potencia)"
   ]
  },
  {
   "cell_type": "markdown",
   "metadata": {},
   "source": [
    "18. Tendo como dados de entrada a altura de uma pessoa, construa um algoritmo que calcule seu peso ideal, usando a seguinte fórmula: (72.7*altura) – 58."
   ]
  },
  {
   "cell_type": "code",
   "execution_count": 58,
   "metadata": {},
   "outputs": [
    {
     "name": "stdout",
     "output_type": "stream",
     "text": [
      "Altura: 1.65\n",
      "Seu peso ideal é 61.955\n"
     ]
    }
   ],
   "source": [
    "altura = float(input('Altura: '))\n",
    "pesoIdeal = (72.7 * altura) - 58\n",
    "\n",
    "print('Seu peso ideal é {}' .format(pesoIdeal))\n"
   ]
  },
  {
   "cell_type": "markdown",
   "metadata": {},
   "source": [
    "19. Faça um programa que peça o tamanho de um arquivo para download (em MB) e a velocidade de um link de Internet (em MBps), calcule e informe o tempo aproximado de download do arquivo usando este link (em minutos)."
   ]
  },
  {
   "cell_type": "code",
   "execution_count": 60,
   "metadata": {},
   "outputs": [
    {
     "name": "stdout",
     "output_type": "stream",
     "text": [
      "Tamanho do arquivo em MB: 20\n",
      "Velocidade da internet em MBps: 5\n",
      "O tempo aproximado de download do arquivo é de 4.0 segundos\n"
     ]
    }
   ],
   "source": [
    "arquivo = float(input('Tamanho do arquivo em MB: '))\n",
    "velocidade = float(input('Velocidade da internet em MBps: '))\n",
    "\n",
    "download = arquivo / velocidade\n",
    "\n",
    "print('O tempo aproximado de download do arquivo é de {} segundos' .format(download))"
   ]
  },
  {
   "cell_type": "markdown",
   "metadata": {},
   "source": [
    "20. Ler dois valores para as variáveis A e B, e efetuar as trocas dos valores de forma que a variável A passe a possuir o valor da variável B e a variável B passe a possuir o valor da variável A. Apresentar os valores trocados."
   ]
  },
  {
   "cell_type": "code",
   "execution_count": 62,
   "metadata": {},
   "outputs": [
    {
     "name": "stdout",
     "output_type": "stream",
     "text": [
      "Digite o valor de A: 5\n",
      "Digite o valor de B: 6\n",
      "B = 6\n",
      "A = 5\n"
     ]
    }
   ],
   "source": [
    "A = int(input('Digite o valor de A: '))\n",
    "B = int(input('Digite o valor de B: '))\n",
    "\n",
    "auxA = B\n",
    "auxB = A\n",
    "\n",
    "print('B = {}' .format(auxA))\n",
    "print('A = {}' .format(auxB))"
   ]
  },
  {
   "cell_type": "markdown",
   "metadata": {},
   "source": [
    "21. Faça um Programa que pergunte quanto você ganha por hora e o número de horas trabalhadas no mês. Calcule e mostre o total do seu salário no referido mês, sabendo-se que são descontados 11% para o Imposto de Renda, 8% para o INSS e 5% para o sindicato, faça um programa que nos dê:<br>\n",
    "- salário bruto.<br>\n",
    "- quanto pagou ao INSS.<br> \n",
    "- quanto pagou ao sindicato.<br> \n",
    "- o salário líquido.<br> \n",
    "- calcule os descontos e o salário líquido, conforme a tabela abaixo:<br>\n",
    "- Salário Bruto : R$<br>\n",
    "- IR (11%) : R$<br>\n",
    "- INSS (8%) : R$<br>\n",
    "- Sindicato ( 5%) : R$ <br>\n",
    "- Salário Liquido : R$<br>\n",
    "Obs.: Salário Bruto - Descontos = Salário Líquido.<br>\n"
   ]
  },
  {
   "cell_type": "code",
   "execution_count": 69,
   "metadata": {},
   "outputs": [
    {
     "name": "stdout",
     "output_type": "stream",
     "text": [
      "Digite o valor da hora: 5\n",
      "Digite a quantidade de hora trabalhada: 200\n",
      "Salário bruto: 1000.0\n",
      "Valor INSS: 80.0\n",
      "Valor IR: 150.0\n",
      "Valor Sindicato: 50.0\n",
      "O valor do salário líquido é 720.0 reais\n"
     ]
    }
   ],
   "source": [
    "valorHora = float(input('Digite o valor da hora: '))\n",
    "qteHora = float(input('Digite a quantidade de hora trabalhada: '))\n",
    "salarioBruto = valorHora * qteHora\n",
    "\n",
    "valorINSS = salarioBruto * 0.08\n",
    "valorIR = salarioBruto * 0.15\n",
    "valorSindicato = salarioBruto * 0.05 \n",
    "totalDesconto = valorINSS + valorIR + valorSindicato\n",
    "\n",
    "salarioLiquido = salarioBruto - totalDesconto\n",
    "\n",
    "print('Salário bruto: {}' .format(salarioBruto))\n",
    "print('Valor INSS: {}' .format(valorINSS))\n",
    "print('Valor IR: {}' .format(valorIR))\n",
    "print('Valor Sindicato: {}' .format(valorSindicato))\n",
    "print('O valor do salário líquido é {} reais' .format(salarioLiquido))\n"
   ]
  }
 ],
 "metadata": {
  "kernelspec": {
   "display_name": "Python 3",
   "language": "python",
   "name": "python3"
  },
  "language_info": {
   "codemirror_mode": {
    "name": "ipython",
    "version": 3
   },
   "file_extension": ".py",
   "mimetype": "text/x-python",
   "name": "python",
   "nbconvert_exporter": "python",
   "pygments_lexer": "ipython3",
   "version": "3.8.3"
  }
 },
 "nbformat": 4,
 "nbformat_minor": 4
}
