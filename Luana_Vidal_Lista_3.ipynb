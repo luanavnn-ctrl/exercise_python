{
 "cells": [
  {
   "cell_type": "markdown",
   "metadata": {},
   "source": [
    "1. Faça um Programa que peça dois números e imprima o maior deles."
   ]
  },
  {
   "cell_type": "code",
   "execution_count": 13,
   "metadata": {},
   "outputs": [
    {
     "name": "stdout",
     "output_type": "stream",
     "text": [
      "Digite o primeiro número: 25\n",
      "Digite o segundo número: 23\n",
      "O maior número é 25\n"
     ]
    }
   ],
   "source": [
    "numero1 = input('Digite o primeiro número: ')\n",
    "numero2 = input('Digite o segundo número: ')\n",
    "\n",
    "if numero1 > numero2:\n",
    "    print('O maior número é {}' .format(numero1))\n",
    "else:\n",
    "    print('O maior número é {}' .formati(numero2))"
   ]
  },
  {
   "cell_type": "markdown",
   "metadata": {},
   "source": [
    "2. Faça um Programa que peça um valor e mostre na tela se o valor é positivo ou negativo."
   ]
  },
  {
   "cell_type": "code",
   "execution_count": 24,
   "metadata": {},
   "outputs": [
    {
     "name": "stdout",
     "output_type": "stream",
     "text": [
      "Digite um número: -2\n",
      "O número é negativo!\n"
     ]
    }
   ],
   "source": [
    "numero = int(input('Digite um número: '))\n",
    "\n",
    "if numero > 0:\n",
    "    print('O número é positivo!')\n",
    "else:\n",
    "    print('O número é negativo!')"
   ]
  },
  {
   "cell_type": "markdown",
   "metadata": {},
   "source": [
    "3. Faça um Programa que verifique se uma letra digitada é \"F\" ou \"M\". Conforme a letra escrever: F - Feminino, M - Masculino, Sexo Inválido. "
   ]
  },
  {
   "cell_type": "code",
   "execution_count": 28,
   "metadata": {},
   "outputs": [
    {
     "name": "stdout",
     "output_type": "stream",
     "text": [
      "Sexo: D\n",
      "Sexo Inválido\n"
     ]
    }
   ],
   "source": [
    "sexo = str(input('Sexo: '))\n",
    "\n",
    "if 'F' in sexo:\n",
    "    print('Feminino')\n",
    "elif 'M' in sexo:\n",
    "    print('Masculino')\n",
    "else:\n",
    "    print('Sexo Inválido')"
   ]
  },
  {
   "cell_type": "markdown",
   "metadata": {},
   "source": [
    "4. Faça um programa para a leitura de duas notas parciais de um aluno. O programa deve calcular a média alcançada por aluno e apresentar:<br> \n",
    ". A mensagem \"Aprovado\", se a média alcançada for maior ou igual a sete;<br> \n",
    ". A mensagem \"Reprovado\", se a média for menor do que sete;<br> \n",
    ". A mensagem \"Aprovado com Distinção\", se a média for igual a dez.<br>"
   ]
  },
  {
   "cell_type": "code",
   "execution_count": 33,
   "metadata": {},
   "outputs": [
    {
     "name": "stdout",
     "output_type": "stream",
     "text": [
      "Nota da primeira parcial: 10\n",
      "Nota da segunda parcial: 10\n",
      "Aprovado com Distinção\n"
     ]
    }
   ],
   "source": [
    "nota1 = float(input('Nota da primeira parcial: '))\n",
    "nota2 = float(input('Nota da segunda parcial: '))\n",
    "media = (nota1 + nota2) / 2\n",
    "\n",
    "if media >= 7.0 and media != 10.0:\n",
    "    print('Aprovado')\n",
    "elif media < 7.0:\n",
    "    print('Reprovado')\n",
    "elif media == 10.0:\n",
    "    print('Aprovado com Distinção')"
   ]
  },
  {
   "cell_type": "markdown",
   "metadata": {},
   "source": [
    "5. Faça um Programa que leia três números e mostre o maior deles"
   ]
  },
  {
   "cell_type": "code",
   "execution_count": 10,
   "metadata": {},
   "outputs": [
    {
     "name": "stdout",
     "output_type": "stream",
     "text": [
      "Primeiro número: 5\n",
      "Segundo número: 6\n",
      "Terceiro número: 3\n",
      "O SEGUNDO número é maior.\n"
     ]
    }
   ],
   "source": [
    "n1 = float(input('Primeiro número: '))\n",
    "n2 = float(input('Segundo número: '))\n",
    "n3 = float(input('Terceiro número: '))\n",
    "\n",
    "if n2 < n1 > n3:\n",
    "    print('O PRIMEIRO número é maior.')\n",
    "if n1 < n2 > n3:\n",
    "    print('O SEGUNDO número é maior.')\n",
    "elif n1 < n3 > n2:\n",
    "    print('O TERCEIRO número é maior.')\n"
   ]
  },
  {
   "cell_type": "code",
   "execution_count": 13,
   "metadata": {},
   "outputs": [
    {
     "name": "stdout",
     "output_type": "stream",
     "text": [
      "2 6 8\n",
      "O TERCEIRO número é maior.\n"
     ]
    }
   ],
   "source": [
    "n1 = 2\n",
    "n2 = 6\n",
    "n3 = 8\n",
    "\n",
    "print(n1, n2, n3)\n",
    "\n",
    "if n2 < n1 > n3:\n",
    "    print('O PRIMEIRO número é maior.')\n",
    "if n1 < n2 > n3:\n",
    "    print('O SEGUNDO número é maior.')\n",
    "elif n1 < n3 > n2:\n",
    "    print('O TERCEIRO número é maior.')\n",
    "\n"
   ]
  },
  {
   "cell_type": "markdown",
   "metadata": {},
   "source": [
    "6. Faça um programa que pergunte o preço de três produtos e informe qual produto você deve comprar, sabendo que a decisão é sempre pelo mais barato. "
   ]
  },
  {
   "cell_type": "code",
   "execution_count": 2,
   "metadata": {},
   "outputs": [
    {
     "name": "stdout",
     "output_type": "stream",
     "text": [
      "Digite o valor do primeiro produto: 5.75\n",
      "Digite o valor do segundo produto: 2.5\n",
      "Digite o valor do terceiro produto: 5.80\n",
      "O SEGUNDO produto é mais barato.\n"
     ]
    }
   ],
   "source": [
    "produto1 = float(input('Digite o valor do primeiro produto: '))\n",
    "produto2 = float(input('Digite o valor do segundo produto: '))\n",
    "produto3 = float(input('Digite o valor do terceiro produto: '))\n",
    "\n",
    "if produto2 > produto1 < produto3:\n",
    "    print('O PRIMEIRO produto é mais barato.')\n",
    "if produto1 > produto2 < produto3:\n",
    "    print('O SEGUNDO produto é mais barato.')\n",
    "elif produto1 > produto3 < produto2:\n",
    "    print('O TERCEIRO produto é mais barato.')"
   ]
  },
  {
   "cell_type": "markdown",
   "metadata": {},
   "source": [
    "7. Faça um Programa que pergunte em que turno você estuda. Peça para digitar M-matutino ou V-Vespertino ou N- Noturno. Imprima a mensagem \"Bom Dia!\", \"Boa Tarde!\" ou \"Boa Noite!\" ou \"Valor Inválido!\", conforme o caso. "
   ]
  },
  {
   "cell_type": "code",
   "execution_count": 16,
   "metadata": {},
   "outputs": [
    {
     "name": "stdout",
     "output_type": "stream",
     "text": [
      "Qual turno você estuda? (considere m-matutino, v-vespertino ou n-noturno) b\n",
      "Turno inválido. Digite novamente.\n"
     ]
    }
   ],
   "source": [
    "turno = str(input('Qual turno você estuda? (considere m-matutino, v-vespertino ou n-noturno) '))\n",
    "m = 'matutino'\n",
    "v = 'vespertino'\n",
    "n = 'noturno'\n",
    "\n",
    "if turno == 'm':\n",
    "    print('Bom dia!')\n",
    "elif turno == 'v':\n",
    "    print('Boa tarde!')\n",
    "elif turno == 'n':\n",
    "    print('Boa noite!')\n",
    "else:\n",
    "    print('Turno inválido! Digite novamente.')\n",
    "\n"
   ]
  },
  {
   "cell_type": "markdown",
   "metadata": {},
   "source": [
    "8. As Organizações Tabajara resolveram dar um aumento de salário aos seus colaboradores e lhe contrataram para desenvolver o programa que calculará os reajustes. Faça um programa que recebe o salário de um colaborador e o reajuste segundo o seguinte critério, baseado no salário atual:<br>\n",
    "\n",
    ". o salários até reais 280,00 (incluindo) : aumento de 0.20<br>\n",
    "\n",
    ". o salários entre reais 280,00 e reais 700,00 : aumento de 0.15<br>\n",
    "\n",
    ". o salários entre reais 700,00 e reais 1500,00 : aumento de 0.10<br>\n",
    "\n",
    "salários de reais 1500,00 em diante : aumento de 0.05 Após o aumento ser realizado, informe na tela:<br>\n",
    "\n",
    "- o salário antes do reajuste;<br>\n",
    "\n",
    "- o percentual de aumento aplicado;<br>\n",
    "\n",
    "- o valor do aumento;<br>\n",
    "\n",
    "- o novo salário, após o aumento. \n"
   ]
  },
  {
   "cell_type": "code",
   "execution_count": 31,
   "metadata": {},
   "outputs": [
    {
     "name": "stdout",
     "output_type": "stream",
     "text": [
      "Digite o valor do salário bruto: 270\n",
      "O salário é 270.0, então: \n",
      "O salário reajustado é 270.0 + 20%, que fica 324.0 reais.\n"
     ]
    }
   ],
   "source": [
    "salarioBruto = float(input('Digite o valor do salário bruto: '))\n",
    "\n",
    "salario1 = salarioBruto * 0.20 + salarioBruto\n",
    "salario2 = salarioBruto * 0.15 + salarioBruto\n",
    "salario3 = salarioBruto * 0.10 + salarioBruto\n",
    "salario4 = salarioBruto * 0.05 + salarioBruto\n",
    "\n",
    "print('O salário é {}, então: ' .format(salarioBruto))\n",
    "\n",
    "if salarioBruto <= 280:\n",
    "    print('O salário reajustado é {} + 20%, que fica {} reais.' .format(salarioBruto, salario1))\n",
    "if 280 < salarioBruto < 700:\n",
    "    print('O salário reajustado é {} + 15%, que fica {} reais.' .format(salarioBruto, salario2))\n",
    "if 700 <= salarioBruto < 1500:\n",
    "    print('O salário reajustado é {} + 10%, que fica {} reais.' .format(salarioBruto, salario3))\n",
    "elif salarioBruto >= 1500:\n",
    "    print('O salário reajustado é {} + 5%, que fica {} reais.' .format(salarioBruto, salario4))\n",
    "          "
   ]
  },
  {
   "cell_type": "markdown",
   "metadata": {},
   "source": [
    "9. Faça um programa para o cálculo de uma folha de pagamento, sabendo que os descontos são do Imposto de Renda, que depende do salário bruto (conforme tabela abaixo) e 3% para o Sindicato e que o FGTS corresponde a 11% do Salário Bruto, mas não é descontado (é a empresa que deposita). O Salário Líquido corresponde ao Salário Bruto menos os descontos. O programa deverá pedir ao usuário o valor da sua hora e a quantidade de horas trabalhadas no mês.<br> \n",
    ". Desconto do IR:<br> \n",
    ". Salário Bruto até 900 (inclusive) - isento><br>\n",
    ". Salário Bruto até 1500 (inclusive) - desconto de 5%<br> \n",
    ". Salário Bruto até 2500 (inclusive) - desconto de 10%<br>\n",
    ". Salário Bruto acima de 2500 - desconto de 20% Imprima na tela as informações, dispostas conforme o exemplo abaixo. No exemplo o valor da hora é 5 e a quantidade de hora é 220. \n"
   ]
  },
  {
   "cell_type": "code",
   "execution_count": 50,
   "metadata": {},
   "outputs": [
    {
     "name": "stdout",
     "output_type": "stream",
     "text": [
      "Digite o valor da hora trabalhada: 25.5\n",
      "Digite a quantidade de horas trabalhadas no mês: 300\n",
      "O valor do salário bruto é 7650.0\n",
      "O valor do salário líquido é 6579.0\n",
      "O salário líquido com desconto de 20% de imposto de renda é 5049.0\n"
     ]
    }
   ],
   "source": [
    "valorHoraTrabalhada = float(input('Digite o valor da hora trabalhada: '))\n",
    "horaTrabalhada = float(input('Digite a quantidade de horas trabalhadas no mês: '))\n",
    "\n",
    "salarioBruto = valorHoraTrabalhada * horaTrabalhada\n",
    "print('O valor do salário bruto é {}' .format(salarioBruto))\n",
    "\n",
    "desconto = 0.03 + 0.11 \n",
    "salarioLiquido = salarioBruto - (salarioBruto * desconto) \n",
    "\n",
    "print('O valor do salário líquido é {}' .format(salarioLiquido))\n",
    "\n",
    "salarioIR1 = salarioLiquido - salarioBruto * 0.05  \n",
    "salarioIR2 = salarioLiquido - salarioBruto * 0.10 \n",
    "salarioIR3 = salarioLiquido - salarioBruto * 0.20 \n",
    "\n",
    "if salarioLiquido <= 900:\n",
    "    print('Isento de recolhimento')\n",
    "elif 900 < salarioLiquido <= 1500:\n",
    "    print('O salário líquido com desconto de 5% de imposto de renda é {}' .format(salarioIR1))\n",
    "elif 1500 < salarioLiquido <= 2500:\n",
    "    print('O salário líquido com desconto de 10% de imposto de renda é {}' .format(salarioIR2))\n",
    "elif 2500 < salarioLiquido:\n",
    "    print('O salário líquido com desconto de 20% de imposto de renda é {}' .format(salarioIR3))\n",
    "    \n"
   ]
  },
  {
   "cell_type": "markdown",
   "metadata": {},
   "source": [
    "10. Faça um Programa que leia um número e exiba o dia correspondente da semana. (1-Domingo, 2- Segunda, etc.), se digitar outro valor deve aparecer valor inválido. "
   ]
  },
  {
   "cell_type": "code",
   "execution_count": 58,
   "metadata": {},
   "outputs": [
    {
     "name": "stdout",
     "output_type": "stream",
     "text": [
      "Digite o dia da semana (considere valores de 1 a 7, sendo domingo=1, segunda=2, ...):   3\n",
      "Terça-feira\n"
     ]
    }
   ],
   "source": [
    "dia = input('Digite o dia da semana (considere valores de 1 a 7, sendo domingo=1, segunda=2, ...):   ')\n",
    "\n",
    "if dia == '1':\n",
    "    print('Domingo')\n",
    "elif dia == '2':\n",
    "    print('Segunda-feira')\n",
    "elif dia == '3':\n",
    "    print('Terça-feira')\n",
    "elif dia == '4':\n",
    "    print('Quarta-feira')\n",
    "elif dia == '5':\n",
    "    print('Quinta-feira')\n",
    "elif dia == '6':\n",
    "    print('Sexta-feira')\n",
    "elif dia == '7':\n",
    "    print('Sábado')\n",
    "else:\n",
    "    print('Valor inválido')"
   ]
  },
  {
   "cell_type": "markdown",
   "metadata": {},
   "source": [
    "11. Faça um programa que lê as duas notas parciais obtidas por um aluno numa disciplina ao longo de um semestre, e calcule a sua média. A atribuição de conceitos obedece à tabela abaixo:<br>\n",
    "\n",
    ".  Média de Aproveitamento  Conceito<br>\n",
    ".  Entre 9.0 e 10.0       A<br>\n",
    ".  Entre 7.5 e 9.0         B<br>\n",
    ".  Entre 6.0 e 7.5         C<br>\n",
    ".  Entre 4.0 e 6.0         D<br>\n",
    ".  Entre 4.0 e zero       E<br>\n",
    "\n",
    "O algoritmo deve mostrar na tela as notas, a média, o conceito correspondente e a mensagem “APROVADO” se o conceito for A, B ou C ou “REPROVADO” se o conceito for D ou E.\n"
   ]
  },
  {
   "cell_type": "code",
   "execution_count": 78,
   "metadata": {},
   "outputs": [
    {
     "name": "stdout",
     "output_type": "stream",
     "text": [
      "Digite a nota da primeira parcial: 20\n",
      "Digite a nota da segunda parcial: 30\n",
      "A média é 25.0\n",
      "Valor inválido\n"
     ]
    }
   ],
   "source": [
    "parcial1 = float(input('Digite a nota da primeira parcial: '))\n",
    "parcial2 = float(input('Digite a nota da segunda parcial: '))\n",
    "\n",
    "media = (parcial1 + parcial2) / 2\n",
    "print('A média é {}' .format(media))\n",
    "\n",
    "if 10 >= media > 9:\n",
    "    print('Conceito A')\n",
    "    print('APROVADO')\n",
    "elif 9 >= media > 7.5:\n",
    "    print('Conceito B')\n",
    "    print('APROVADO')\n",
    "elif 7.5 >= media > 6:\n",
    "    print('Conceito C')\n",
    "    print('APROVADO')\n",
    "elif 6 >= media > 4:\n",
    "    print('Conceito D')\n",
    "    print('REPROVADO')\n",
    "elif 4 >= media > 0:\n",
    "    print('Conceito E')\n",
    "    print('REPROVADO')\n",
    "else:\n",
    "    print('Valor inválido')\n",
    "\n",
    "\n"
   ]
  },
  {
   "cell_type": "markdown",
   "metadata": {},
   "source": [
    "12. Faça um Programa que peça os 3 lados de um triângulo. O programa deverá informar se os valores podem ser um triângulo. Indique, caso os lados formem um triângulo, se o mesmo é: equilátero, isósceles ou escaleno. \n",
    "\n",
    "Dicas: Três lados formam um triângulo quando a soma de quaisquer dois lados for maior que o terceiro; Triângulo Equilátero: três lados iguais; Triângulo isósceles: quaisquer dois lados iguais; Triângulo Escaleno: três lados diferentes; \n"
   ]
  },
  {
   "cell_type": "code",
   "execution_count": 4,
   "metadata": {},
   "outputs": [
    {
     "name": "stdout",
     "output_type": "stream",
     "text": [
      "Digite o valor do lado 1: 2\n",
      "Digite o valor do lado 2: 3\n",
      "Digite o valor do lado 3: 5\n",
      "Esse triângulo é escaleno\n"
     ]
    }
   ],
   "source": [
    "triangulo_lado1 = int(input('Digite o valor do lado 1: '))\n",
    "triangulo_lado2 = int(input('Digite o valor do lado 2: '))\n",
    "triangulo_lado3 = int(input('Digite o valor do lado 3: '))\n",
    "\n",
    "if triangulo_lado1 == triangulo_lado2 == triangulo_lado3:\n",
    "    print('Esse triângulo é equilátero')\n",
    "elif triangulo_lado1 == triangulo_lado2 or triangulo_lado2 == triangulo_lado3 or triangulo_lado1 == triangulo_lado3:\n",
    "    print('Esse triângulo é isósceles')\n",
    "else:\n",
    "    print('Esse triângulo é escaleno')\n",
    "    "
   ]
  },
  {
   "cell_type": "markdown",
   "metadata": {},
   "source": [
    "13. Faça um programa que calcule as raízes de uma equação do segundo grau, na forma ax2 + bx + c. O programa deverá pedir os valores de a, b e c e fazer as consistências, informando ao usuário nas seguintes situações: \n",
    "\n",
    "Se o usuário informar o valor de A igual a zero, a equação não é do segundo grau e o programa não deve fazer pedir os demais valores, sendo encerrado; \n",
    "\n",
    "Se o delta calculado for negativo, a equação não possui raizes reais. Informe ao usuário e encerre o programa; \n",
    "\n",
    "Se o delta calculado for igual a zero a equação possui apenas uma raiz real; informe-a ao usuário; \n",
    "\n",
    "Se o delta for positivo, a equação possui duas raiz reais; informe-as ao usuário; \n"
   ]
  },
  {
   "cell_type": "code",
   "execution_count": 25,
   "metadata": {},
   "outputs": [
    {
     "name": "stdout",
     "output_type": "stream",
     "text": [
      "Digite o valor de a: 1\n",
      "Digite o valor de b: 25\n",
      "Digite o valor de c: 3\n",
      "A equação possui duas raízes reais.\n",
      "Raíz 1: -23.06350832689629\n",
      "Raíz 2: -26.93649167310371\n"
     ]
    }
   ],
   "source": [
    "valor_a = int(input(\"Digite o valor de a: \"))\n",
    "valor_b = int(input(\"Digite o valor de b: \"))\n",
    "valor_c = int(input(\"Digite o valor de c: \"))\n",
    "\n",
    "delta = (valor_b^2) - 4 * valor_a * valor_c\n",
    "\n",
    "if valor_a == 0:\n",
    "    print('A equação não é do segundo grau. Programa encerrado') \n",
    "elif delta < 0:\n",
    "    print('O valor de delta é {}' .format(delta))\n",
    "    print('A equação não possui raízes reais. Programa encerrado')\n",
    "else:\n",
    "    print('A equação possui duas raízes reais.')\n",
    "    raiz_1 = ((-valor_b) + (delta**(1/2))/(2*valor_a))\n",
    "    raiz_2 = ((-valor_b) - (delta**(1/2))/(2*valor_a))\n",
    "    print('Raíz 1: {}' .format(raiz_1))\n",
    "    print('Raíz 2: {}' .format(raiz_2))\n",
    "    \n",
    "    "
   ]
  },
  {
   "cell_type": "markdown",
   "metadata": {},
   "source": [
    "14. Faça um Programa que peça um número correspondente a um determinado ano e em seguida informe se este ano é ou não bissexto. \n"
   ]
  },
  {
   "cell_type": "code",
   "execution_count": 28,
   "metadata": {},
   "outputs": [
    {
     "name": "stdout",
     "output_type": "stream",
     "text": [
      "Digite o ano: 2020\n",
      "Bissexto\n"
     ]
    }
   ],
   "source": [
    "ano = int(input('Digite o ano: '))\n",
    "\n",
    "if (ano % 4 == 0 and ano % 100 != 0) or (ano % 400 == 0):\n",
    "    print('Bissexto')\n",
    "else:\n",
    "    print('Não é bissexto')\n",
    "    "
   ]
  },
  {
   "cell_type": "markdown",
   "metadata": {},
   "source": [
    "15. Faça um Programa para leitura de três notas parciais de um aluno. O programa deve calcular a média alcançada por aluno e apresentar: \n",
    "\n",
    "A mensagem \"Aprovado\", se a média for maior ou igual a 7, com a respectiva média alcançada; \n",
    "\n",
    "A mensagem \"Reprovado\", se a média for menor do que 7, com a respectiva média alcançada; \n",
    "\n",
    "A mensagem \"Aprovado com Distinção\", se a média for igual a 10. \n"
   ]
  },
  {
   "cell_type": "code",
   "execution_count": 35,
   "metadata": {},
   "outputs": [
    {
     "name": "stdout",
     "output_type": "stream",
     "text": [
      "Digite a nota da primeira parcial: 25\n",
      "Digite a nota da segunda parcial: 5\n",
      "Digite a nota da terceira parcial: 7\n",
      "digite os valores corretamente\n"
     ]
    }
   ],
   "source": [
    "nota_1 = float(input('Digite a nota da primeira parcial: '))\n",
    "nota_2 = float(input('Digite a nota da segunda parcial: '))\n",
    "nota_3 = float(input('Digite a nota da terceira parcial: '))\n",
    "\n",
    "media = (nota_1 + nota_2 + nota_3) / 3\n",
    "\n",
    "if 7 <= media < 10:\n",
    "    print('Aprovado')\n",
    "elif media < 7:\n",
    "    print('Reprovado')\n",
    "elif media == 10:\n",
    "    print('Aprovado com distinção')\n",
    "else:\n",
    "    print('Digite os valores corretamente')"
   ]
  },
  {
   "cell_type": "markdown",
   "metadata": {},
   "source": [
    "16. Faça um Programa para um caixa eletrônico. O programa deverá perguntar ao usuário a valor do saque e depois informar quantas notas de cada valor serão fornecidas. As notas disponíveis serão as de 1, 5, 10, 50 e 100 reais. O valor mínimo é de 10 reais e o máximo de 600 reais. O programa não deve se preocupar com a quantidade de notas existentes na máquina. \n",
    "\n",
    "Exemplo 1: Para sacar a quantia de 256 reais, o programa fornece duas notas de 100, uma nota de 50, uma nota de 5 e uma nota de 1; \n",
    "\n",
    "Exemplo 2: Para sacar a quantia de 399 reais, o programa fornece três notas de 100, uma nota de 50, quatro notas de 10, uma nota de 5 e quatro notas de 1. "
   ]
  },
  {
   "cell_type": "code",
   "execution_count": 36,
   "metadata": {},
   "outputs": [
    {
     "name": "stdout",
     "output_type": "stream",
     "text": [
      "======== CAIXA ELETRÔNICO ========\n"
     ]
    }
   ],
   "source": [
    "print('======== CAIXA ELETRÔNICO ========')"
   ]
  },
  {
   "cell_type": "code",
   "execution_count": 42,
   "metadata": {},
   "outputs": [
    {
     "name": "stdout",
     "output_type": "stream",
     "text": [
      "Digite o valor do saque: 624\n",
      "Valor inválido\n"
     ]
    }
   ],
   "source": [
    "valor_saque = int(input('Digite o valor do saque: '))\n",
    "\n",
    "if valor_saque < 10 or valor_saque > 600:\n",
    "    print('Valor inválido')\n",
    "else:\n",
    "    notas100 = valor_saque // 10\n",
    "    notas50 = (valor_saque % 100) // 50\n",
    "    notas10 = ((valor_saque % 100) % 50) // 10\n",
    "    notas5 = (valor_saque % 10) // 5\n",
    "    notas1 = (valor_saque % 5)\n",
    "    print(\"Notas de 100:  \", notas100)\n",
    "    print(\"Notas de  50:  \", notas50)\n",
    "    print(\"Notas de  10:  \", notas10)\n",
    "    print(\"Notas de   5:  \", notas5)\n",
    "    print(\"Notas de   1:  \", notas1) "
   ]
  },
  {
   "cell_type": "markdown",
   "metadata": {},
   "source": [
    "17. Faça um Programa que peça um número inteiro e determine se ele é par ou impar. \n",
    "\n"
   ]
  },
  {
   "cell_type": "code",
   "execution_count": 44,
   "metadata": {},
   "outputs": [
    {
     "name": "stdout",
     "output_type": "stream",
     "text": [
      "Digite um número inteiro: 2\n",
      "Par\n"
     ]
    }
   ],
   "source": [
    "numero_inteiro = int(input('Digite um número inteiro: '))\n",
    "\n",
    "if numero_inteiro % 2 == 0:\n",
    "    print('Par')\n",
    "else:\n",
    "    print('Ímpar')"
   ]
  },
  {
   "cell_type": "markdown",
   "metadata": {},
   "source": [
    "18. Faça um Programa que leia 2 números e em seguida pergunte ao usuário qual operação ele deseja realizar. O resultado da operação deve ser acompanhado de uma frase que diga se o número é: \n",
    "\n",
    "par ou ímpar; \n",
    "\n",
    "positivo ou negativo; \n",
    "\n",
    "inteiro ou decimal. \n"
   ]
  },
  {
   "cell_type": "code",
   "execution_count": 93,
   "metadata": {},
   "outputs": [
    {
     "name": "stdout",
     "output_type": "stream",
     "text": [
      "Digite o primeiro número: 1\n",
      "Digite o segundo número:  -1\n",
      "#===============================================#\n",
      "Qual operação deseja realizar? \n",
      "1 - Adição\n",
      "2 - Subtração\n",
      "3 - Multiplicação\n",
      "4 - Divisão \n",
      "Digite uma das opções acima: 4\n",
      "O resultado da divisão é -1.0\n",
      "O número -1.0 é ímpar\n",
      "O número -1.0 é negativo\n",
      "O número -1.0 é decimal\n",
      "#===============================================#\n"
     ]
    }
   ],
   "source": [
    "numero1 = int(input('Digite o primeiro número: '))\n",
    "numero2 = int(input('Digite o segundo número:  '))\n",
    "\n",
    "print('#===============================================#')\n",
    "print('Qual operação deseja realizar? ')\n",
    "opcao = int(input('1 - Adição\\n2 - Subtração\\n3 - Multiplicação\\n4 - Divisão \\nDigite uma das opções acima: '))\n",
    "\n",
    "if opcao == 1:\n",
    "    resultado = numero1 + numero2\n",
    "    print('O resultado da adição é {}' .format(resultado))\n",
    "elif opcao == 2:\n",
    "    resultado = numero1 - numero2\n",
    "    print('O resultado é subtração é {}' .format(resultado))\n",
    "elif opcao == 3:\n",
    "    resultado = numero1 * numero2\n",
    "    print('O resultado é multiplicação é {}' .format(resultado))\n",
    "elif opcao == 4:\n",
    "    resultado = numero1 / numero2\n",
    "    print('O resultado da divisão é {}' .format(resultado))\n",
    "else:\n",
    "    print('Opção inválida')\n",
    "    exit()\n",
    "    \n",
    "if resultado % 2 == 0:\n",
    "    print('O número {} é par' .format(resultado))\n",
    "else:\n",
    "    print('O número {} é ímpar' .format(resultado))\n",
    "\n",
    "if resultado >= 0:\n",
    "    print('O número {} é positivo' .format(resultado))\n",
    "else:\n",
    "    print('O número {} é negativo' .format(resultado))\n",
    "    \n",
    "if type(resultado) == int:\n",
    "    print('O número {} é inteiro' .format(resultado))\n",
    "else:\n",
    "    print('O número {} é decimal' .format(resultado)) \n",
    "    \n",
    "print('#===============================================#')"
   ]
  },
  {
   "cell_type": "markdown",
   "metadata": {},
   "source": [
    "19. Faça um programa que faça 5 perguntas para uma pessoa sobre um crime. As perguntas são: \n",
    "\n",
    "\"Telefonou para a vítima?\" \n",
    "\n",
    "\"Esteve no local do crime?\" \n",
    "\n",
    "\"Mora perto da vítima?\"\n",
    "\n",
    "\"Devia para a vítima?\"\n",
    "\n",
    "\"Já trabalhou com a vítima?\" O programa deve no final emitir uma classificação sobre a participação da pessoa no crime. Se a pessoa responder positivamente a 2 questões ela deve ser classificada como \"Suspeita\", entre 3 e 4 como \"Cúmplice\" e 5 como \"Assassino\". Caso contrário, ele será classificado como \"Inocente\". \n"
   ]
  },
  {
   "cell_type": "code",
   "execution_count": 122,
   "metadata": {},
   "outputs": [
    {
     "name": "stdout",
     "output_type": "stream",
     "text": [
      "Digite 1 para SIM e 0 para NÃO\n",
      "Telefonou para a vítima? 1\n",
      "Esteve no local do crime? 0\n",
      "Mora perto da vítima? 0\n",
      "Devia para a vítima? 1\n",
      "Já trabalhou com a vítima? 0\n",
      "#========== RESULTADO ==========#\n",
      "Suspeito\n"
     ]
    }
   ],
   "source": [
    "print('Digite 1 para SIM e 0 para NÃO')\n",
    "\n",
    "resp_1 = int(input('Telefonou para a vítima? '))\n",
    "resp_2 = int(input('Esteve no local do crime? '))\n",
    "resp_3 = int(input('Mora perto da vítima? ')) \n",
    "resp_4 = int(input('Devia para a vítima? '))\n",
    "resp_5 = int(input('Já trabalhou com a vítima? '))\n",
    "\n",
    "resp_total = resp_1 + resp_2 + resp_3 + resp_4 + resp_5\n",
    "\n",
    "print('#========== RESULTADO ==========#')\n",
    "\n",
    "if resp_total == 2:\n",
    "    print('Suspeito')\n",
    "elif resp_total == 3 or resp_total == 4:\n",
    "    print('Cúmplice')\n",
    "elif resp_total == 5:\n",
    "    print('Assassino')\n",
    "else:\n",
    "    print('Inocente')\n",
    "\n",
    "\n"
   ]
  },
  {
   "cell_type": "markdown",
   "metadata": {},
   "source": [
    "20. Um posto está vendendo combustíveis com a seguinte tabela de descontos: \n",
    "\n",
    "Álcool: \n",
    "\n",
    "até 20 litros, desconto de 3% por litro \n",
    "\n",
    "acima de 20 litros, desconto de 5% por litro \n",
    "\n",
    "Gasolina: \n",
    "\n",
    "até 20 litros, desconto de 4% por litro \n",
    "\n",
    "acima de 20 litros, desconto de 6% por litro.\n",
    "\n",
    "Escreva um algoritmo que leia o número de litros vendidos, o tipo de combustível (codificado da seguinte forma: A-álcool, G-gasolina), calcule e imprima o valor a ser pago pelo cliente sabendo-se que o preço do litro da gasolina é 2,50 o preço do litro do álcool é 1,90.\n"
   ]
  },
  {
   "cell_type": "code",
   "execution_count": 148,
   "metadata": {},
   "outputs": [
    {
     "name": "stdout",
     "output_type": "stream",
     "text": [
      "Quantidade de litros vendido: 19\n",
      "Quantidade de litros vendido: 32\n",
      "O valor total de gasolina com desconto de 4% foi de R$ 28.50\n",
      "O valor total de alcool com desconto de 5% foi de R$ 30.40\n"
     ]
    }
   ],
   "source": [
    "gasolina = float(input('Quantidade de litros vendido: '))\n",
    "alcool = float(input('Quantidade de litros vendido: '))\n",
    "\n",
    "valor_gasolina = gasolina * 2.5\n",
    "valor_alcool = alcool * 1.9\n",
    "\n",
    "if gasolina <= 20:\n",
    "    gasolina_desconto4 = valor_gasolina - (valor_gasolina * 0.4) \n",
    "    print('O valor total de gasolina com desconto de 4% foi de R$ {:.2f}' .format(gasolina_desconto4))\n",
    "if gasolina > 20:\n",
    "    gasolina_desconto6 = valor_gasolina - (valor_gasolina * 0.6) \n",
    "    print('O valor total de gasolina com desconto de 6% foi de R$ {:.2f}' .format(gasolina_desconto6))\n",
    "if alcool <= 20:\n",
    "    alcool_desconto3 = valor_alcool - (valor_alcool * 0.3) \n",
    "    print('O valor total de alcool com desconto de 3% foi de R$ {:.2f}' .format(alcool_desconto3))\n",
    "if alcool > 20:\n",
    "    alcool_desconto5 = valor_alcool - (valor_alcool * 0.5) \n",
    "    print('O valor total de alcool com desconto de 5% foi de R$ {:.2f}' .format(alcool_desconto5))\n",
    "else:\n",
    "    print('A quantidade abastecida não requer desconto')"
   ]
  },
  {
   "cell_type": "markdown",
   "metadata": {},
   "source": [
    "21. Uma fruteira está vendendo frutas com a seguinte tabela de preços: \n",
    "\n",
    "                      Até 5 Kg           Acima de 5 Kg\n",
    "Morango              2,50 por Kg          2,20 por Kg<br>\n",
    "Maçã                 1,80 por Kg          1,50 por Kg<br>\n",
    "\n",
    "Se o cliente comprar mais de 8 Kg em frutas ou o valor total da compra ultrapassar R$ 25,00, receberá ainda um desconto de 10% sobre este total. Escreva um algoritmo para ler a quantidade (em Kg) de morangos e a quantidade (em Kg) de maças adquiridas e escreva o valor a ser pago pelo cliente.\n"
   ]
  },
  {
   "cell_type": "code",
   "execution_count": 151,
   "metadata": {},
   "outputs": [
    {
     "name": "stdout",
     "output_type": "stream",
     "text": [
      "Digite a quantidade de MORANGOS em Kg: 10\n",
      "Digite a quantidade de MAÇÃ em Kg: 5\n",
      "\n",
      "O total a pagar é de R$ 27.90\n"
     ]
    }
   ],
   "source": [
    "qtde_morango = float(input('Digite a quantidade de MORANGOS em Kg: '))\n",
    "qtde_maca = float(input('Digite a quantidade de MAÇÃ em Kg: '))\n",
    "\n",
    "if qtde_morango <= 5:\n",
    "    preco_morango = 2.5\n",
    "else:\n",
    "    preco_morango = 2.2\n",
    "    \n",
    "if qtde_maca <= 5:\n",
    "    preco_maca = 1.8\n",
    "else:\n",
    "    preco_maca = 1.5\n",
    "    \n",
    "valor_total = qtde_morango * preco_morango + qtde_maca * preco_maca\n",
    "\n",
    "if qtde_morango + qtde_maca > 8 or valor_total > 25:\n",
    "    valor_total = 0.9 * valor_total\n",
    "    \n",
    "print('O total a pagar é de R$ {:.2f}' .format(valor_total))\n"
   ]
  },
  {
   "cell_type": "markdown",
   "metadata": {},
   "source": [
    "22. Elabore um algoritmo que dada a idade de um nadador classifica-o em uma das seguintes categorias:  infantil A = 5 - 7 anos; infantil B = 8-10 anos; juvenil A = 11-13 anos; juvenil B = 14-17 anos; adulto = maiores de 18 anos."
   ]
  },
  {
   "cell_type": "code",
   "execution_count": 152,
   "metadata": {},
   "outputs": [
    {
     "name": "stdout",
     "output_type": "stream",
     "text": [
      "Digite a idade do atleta: 12\n",
      "Categoria = Juvenil A\n"
     ]
    }
   ],
   "source": [
    "idade_atleta = int(input('Digite a idade do atleta: '))\n",
    "\n",
    "if 5 <= idade_atleta <= 7:\n",
    "    print('Categoria = Infantil A')\n",
    "elif 8 <= idade_atleta <= 10:\n",
    "    print('Categoria = Infantil B')\n",
    "elif 11 <= idade_atleta <= 13:\n",
    "    print('Categoria = Juvenil A')\n",
    "elif 14 <= idade_atleta <= 17:\n",
    "    print('Categoria = Juvenil B')\n",
    "else:\n",
    "    print('Categoria = Adulto')"
   ]
  },
  {
   "cell_type": "markdown",
   "metadata": {},
   "source": [
    "23. Tendo como dados de entrada a altura e o sexo de uma pessoa, construa um algoritmo que calcule seu peso ideal, utilizando as seguintes fórmulas: para homens: (72.7*h) – 58 e para mulheres: (62.1*h) - 44.7 (h = altura)\n"
   ]
  },
  {
   "cell_type": "code",
   "execution_count": 158,
   "metadata": {},
   "outputs": [
    {
     "name": "stdout",
     "output_type": "stream",
     "text": [
      "Digite sua altura: 1.65\n",
      "Digite seu sexo (1-masculino ou 2-feminino): 2\n",
      "Seu pedo ideal é 57.77\n"
     ]
    }
   ],
   "source": [
    "altura = float(input('Digite sua altura: '))\n",
    "sexo = int(input('Digite seu sexo (1-masculino ou 2-feminino): '))\n",
    "\n",
    "if sexo == 1:\n",
    "    peso_m = 72.7 * altura - 58\n",
    "    print('Seu pedo ideal é {:.2f}' .format(peso_m))\n",
    "elif sexo == 2:\n",
    "    peso_f = 62.1 * altura - 44.7\n",
    "    print('Seu pedo ideal é {:.2f}' .format(peso_f))\n",
    "else:\n",
    "    print('Sexo inválido')"
   ]
  },
  {
   "cell_type": "code",
   "execution_count": null,
   "metadata": {},
   "outputs": [],
   "source": []
  }
 ],
 "metadata": {
  "kernelspec": {
   "display_name": "Python 3",
   "language": "python",
   "name": "python3"
  },
  "language_info": {
   "codemirror_mode": {
    "name": "ipython",
    "version": 3
   },
   "file_extension": ".py",
   "mimetype": "text/x-python",
   "name": "python",
   "nbconvert_exporter": "python",
   "pygments_lexer": "ipython3",
   "version": "3.8.3"
  }
 },
 "nbformat": 4,
 "nbformat_minor": 4
}
